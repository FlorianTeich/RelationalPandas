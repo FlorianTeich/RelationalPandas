{
 "cells": [
  {
   "cell_type": "markdown",
   "metadata": {},
   "source": [
    "# Tutorial - Define two dataframes, their relationships and visualize a collection "
   ]
  },
  {
   "cell_type": "markdown",
   "metadata": {},
   "source": [
    "In this tutorial we will create two dataframes and specify a relationship between them.\n",
    "Afterwards we are able to visualize the \"Collection\"."
   ]
  },
  {
   "cell_type": "code",
   "execution_count": null,
   "metadata": {},
   "outputs": [],
   "source": [
    "!pip install networkx xxhash pandas matplotlib"
   ]
  },
  {
   "cell_type": "code",
   "execution_count": null,
   "metadata": {},
   "outputs": [],
   "source": [
    "import pandas as pd\n",
    "import sys\n",
    "sys.path.append(\"../\")\n",
    "import relationalpandas as rp\n",
    "\n",
    "\n",
    "df1 = pd.DataFrame({\"PersonID\": [0, 1], \"Name\": [\"Bob\", \"Alice\"]})\n",
    "df2 = pd.DataFrame({\"CarType\": [\"VW id3\", \"Toyota Aygo X\", \"Audi a3\"], \"OwnerID\": [1, 0, 1]})\n",
    "\n",
    "collection = rp.Collection()\n",
    "collection.register_dataframes([df1, df2])\n",
    "collection.register_name_columns([\"Name\", \"CarType\"])\n",
    "collection.register_relations([[df1, df2, \"PersonID\", \"OwnerID\"]])\n",
    "collection.visualize()"
   ]
  }
 ],
 "metadata": {
  "kernelspec": {
   "display_name": "Python 3.10.4 64-bit",
   "language": "python",
   "name": "python3"
  },
  "language_info": {
   "codemirror_mode": {
    "name": "ipython",
    "version": 3
   },
   "file_extension": ".py",
   "mimetype": "text/x-python",
   "name": "python",
   "nbconvert_exporter": "python",
   "pygments_lexer": "ipython3",
   "version": "3.10.4"
  },
  "orig_nbformat": 4,
  "vscode": {
   "interpreter": {
    "hash": "369f2c481f4da34e4445cda3fffd2e751bd1c4d706f27375911949ba6bb62e1c"
   }
  }
 },
 "nbformat": 4,
 "nbformat_minor": 2
}
