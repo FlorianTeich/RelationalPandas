{
 "cells": [
  {
   "cell_type": "code",
   "execution_count": 71,
   "metadata": {},
   "outputs": [
    {
     "data": {
      "image/png": "[encoded data removed]",
      "text/plain": [
       "<Figure size 432x288 with 1 Axes>"
      ]
     },
     "metadata": {},
     "output_type": "display_data"
    }
   ],
   "source": [
    "import pandas as pd\n",
    "import networkx as nx\n",
    "import xxhash\n",
    "from matplotlib import pyplot as plt\n",
    "\n",
    "h = xxhash.xxh64()\n",
    "\n",
    "\n",
    "class rp:\n",
    "    def new_collection():\n",
    "        return Collection()\n",
    "\n",
    "\n",
    "class Collection:\n",
    "    def __init__(self) -> None:\n",
    "        self.dataframes = []\n",
    "        self.relations = []\n",
    "        self.df_map = {}\n",
    "    \n",
    "    def hash_dataframe(self, dataframe):\n",
    "        h.update(pd.util.hash_pandas_object(dataframe).values)\n",
    "        res = h.intdigest()\n",
    "        h.reset()\n",
    "        return res\n",
    "    \n",
    "    def get_index_of_dataframe(self, dataframe):\n",
    "        return self.df_map[self.hash_dataframe(dataframe)]\n",
    "    \n",
    "    def register_dataframes(self, dataframelist):\n",
    "        self.dataframes = dataframelist\n",
    "        for i, entry in enumerate(self.dataframes):\n",
    "            self.df_map[self.hash_dataframe(entry)] = i\n",
    "\n",
    "    def register_relations(self, relationlist):\n",
    "        for source, target, source_column, target_column in relationlist:\n",
    "            assert self.hash_dataframe(source) in self.df_map\n",
    "            assert self.hash_dataframe(target) in self.df_map\n",
    "            assert source_column in source\n",
    "            assert target_column in target\n",
    "            self.relations.append([\n",
    "                self.get_index_of_dataframe(source),\n",
    "                self.get_index_of_dataframe(target),\n",
    "                source_column,\n",
    "                target_column])\n",
    "    \n",
    "    def visualize(self):\n",
    "        node_color = []\n",
    "        F = nx.Graph()\n",
    "        for i, dataframe in enumerate(self.dataframes):\n",
    "            for index, row in dataframe.iterrows():\n",
    "                F.add_node(str(i) + \"_\" + str(index))\n",
    "                node_color.append(i)\n",
    "\n",
    "        for ind_s, ind_t, source_column, target_column in self.relations:\n",
    "            s = self.dataframes[ind_s]\n",
    "            t = self.dataframes[ind_t]\n",
    "            res = s.reset_index().merge(t.reset_index(), left_on=source_column, right_on=target_column)[[\"index_x\", \"index_y\", source_column, target_column]]\n",
    "            for index, row in res.iterrows():\n",
    "                F.add_edge(str(ind_s) + \"_\" + str(row[0]), str(ind_t) + \"_\" + str(row[1]))\n",
    "        \n",
    "        nx.draw(F, node_color=node_color)\n",
    "        plt.draw()\n",
    "        return\n",
    "\n",
    "\n",
    "df1 = pd.DataFrame({\"PersonID\": [0, 1], \"Name\": [\"Bob\", \"Alice\"]})\n",
    "df2 = pd.DataFrame({\"CarType\": [\"VW id3\", \"Toyota Aygo X\", \"Audi a3\"], \"OwnerID\": [1, 0, 1]})\n",
    "\n",
    "collection = rp.new_collection()\n",
    "collection.register_dataframes([df1, df2])\n",
    "collection.register_relations([[df1, df2, \"PersonID\", \"OwnerID\"]])\n",
    "collection.visualize()"
   ]
  },
  {
   "cell_type": "code",
   "execution_count": null,
   "metadata": {},
   "outputs": [],
   "source": []
  }
 ],
 "metadata": {
  "kernelspec": {
   "display_name": "Python 3.9.7 ('base')",
   "language": "python",
   "name": "python3"
  },
  "language_info": {
   "codemirror_mode": {
    "name": "ipython",
    "version": 3
   },
   "file_extension": ".py",
   "mimetype": "text/x-python",
   "name": "python",
   "nbconvert_exporter": "python",
   "pygments_lexer": "ipython3",
   "version": "3.9.7"
  },
  "orig_nbformat": 4,
  "vscode": {
   "interpreter": {
    "hash": "c31f9a8c3aa1c3c728ca9635375839dde89f8ec10169db463330867a67196863"
   }
  }
 },
 "nbformat": 4,
 "nbformat_minor": 2
}
